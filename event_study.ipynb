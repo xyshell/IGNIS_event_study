{
 "cells": [
  {
   "cell_type": "code",
   "execution_count": 11,
   "metadata": {},
   "outputs": [],
   "source": [
    "import pandas as pd\n",
    "import datetime\n",
    "import ffn\n",
    "import cufflinks as cf\n",
    "from utils import IGNIS_4H"
   ]
  },
  {
   "cell_type": "code",
   "execution_count": 12,
   "metadata": {},
   "outputs": [
    {
     "name": "stdout",
     "output_type": "stream",
     "text": [
      "<class 'pandas.core.frame.DataFrame'>\n",
      "RangeIndex: 265 entries, 0 to 264\n",
      "Data columns (total 8 columns):\n",
      "close         265 non-null float64\n",
      "high          265 non-null float64\n",
      "low           265 non-null float64\n",
      "open          265 non-null float64\n",
      "time          265 non-null object\n",
      "volumefrom    265 non-null float64\n",
      "volumeto      265 non-null float64\n",
      "datetime      265 non-null object\n",
      "dtypes: float64(6), object(2)\n",
      "memory usage: 16.6+ KB\n"
     ]
    }
   ],
   "source": [
    "# load data\n",
    "ignis_4h = pd.read_csv(IGNIS_4H)\n",
    "ignis_4h.info()"
   ]
  },
  {
   "cell_type": "code",
   "execution_count": 22,
   "metadata": {},
   "outputs": [],
   "source": [
    "# Abnormal Returns(AR) in window period\n",
    "logrets = ffn.to_log_returns(ignis_4h['close'])  # Use summable log return  \n",
    "ar = ffn.to_excess_returns(logrets, 0) # Assuming market ret is 0 for simplicity\n",
    "\n",
    "news_date = datetime.datetime(2019, 6, 5) # the date news came\n",
    "window_length = 30 # window period for event study\n",
    "news_idx = ignis_4h.index[pd.to_datetime(ignis_4h['datetime']) <= news_date][-1]\n",
    "ar_window = ar[news_idx-window_length:news_idx+window_length] # abnormal return in window period\n",
    "x_idx = pd.Series(range(-window_length,window_length)).rename(\"x_idx\")\n",
    "car = ar_window.cumsum().rename(\"car\") # cumulative abnormal return\n",
    "car = pd.concat([x_idx, car], axis=1)"
   ]
  },
  {
   "cell_type": "code",
   "execution_count": 24,
   "metadata": {},
   "outputs": [
    {
     "data": {
      "text/html": [
       "<iframe id=\"igraph\" scrolling=\"no\" style=\"border:none;\" seamless=\"seamless\" src=\"https://plot.ly/~xyshell/22.embed\" height=\"525px\" width=\"100%\"></iframe>"
      ],
      "text/plain": [
       "<chart_studio.tools.PlotlyDisplay object>"
      ]
     },
     "execution_count": 24,
     "metadata": {},
     "output_type": "execute_result"
    }
   ],
   "source": [
    "cf.set_config_file(offline=False, world_readable=True, theme='henanigans')\n",
    "car.iplot(\n",
    "    x='x_idx', kind='scatter', xTitle='Time w.r.t News Release', yTitle='CAR', \n",
    "    vline={'x':0, 'color':'yellow', 'dash':'dash'},\n",
    "    title='Cumulative Abnormal Return')"
   ]
  }
 ],
 "metadata": {
  "kernelspec": {
   "display_name": "Python 3",
   "language": "python",
   "name": "python3"
  },
  "language_info": {
   "codemirror_mode": {
    "name": "ipython",
    "version": 3
   },
   "file_extension": ".py",
   "mimetype": "text/x-python",
   "name": "python",
   "nbconvert_exporter": "python",
   "pygments_lexer": "ipython3",
   "version": "3.7.4"
  }
 },
 "nbformat": 4,
 "nbformat_minor": 2
}
